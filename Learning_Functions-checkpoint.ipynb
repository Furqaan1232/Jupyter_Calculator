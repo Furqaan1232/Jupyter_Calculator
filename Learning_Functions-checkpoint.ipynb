{
 "cells": [
  {
   "cell_type": "code",
   "execution_count": 1,
   "id": "1be8508e",
   "metadata": {},
   "outputs": [
    {
     "name": "stdout",
     "output_type": "stream",
     "text": [
      "Hello\n"
     ]
    }
   ],
   "source": [
    "print(\"Hello\")"
   ]
  },
  {
   "cell_type": "code",
   "execution_count": 2,
   "id": "88a4e56e",
   "metadata": {},
   "outputs": [
    {
     "name": "stdout",
     "output_type": "stream",
     "text": [
      "Hello\n"
     ]
    }
   ],
   "source": [
    "print(\"Hello\")"
   ]
  },
  {
   "cell_type": "code",
   "execution_count": 4,
   "id": "dd8b312f",
   "metadata": {},
   "outputs": [
    {
     "name": "stdout",
     "output_type": "stream",
     "text": [
      "11\n"
     ]
    }
   ],
   "source": [
    "def add_numbers(num1,num2):\n",
    "    numbers = num1 + num2\n",
    "    return (numbers)\n",
    "print(add_numbers(5,6))"
   ]
  },
  {
   "cell_type": "code",
   "execution_count": 10,
   "id": "d3ce3d3a",
   "metadata": {},
   "outputs": [],
   "source": [
    "def Calculator(num1,num2):\n",
    "    num1 = int(input(\"Enter first number: \"))\n",
    "    num2 = int(input(\"Enter second number: \"))\n",
    "    op = input(\"Enter operator (+, -, *, /): \")\n",
    "    if op == \"+\":\n",
    "        result = num1 + num2\n",
    "    elif op == \"-\":\n",
    "        result = num1 - num2\n",
    "    elif op == \"*\":\n",
    "        result = num1 * num2\n",
    "    elif op == \"/\":\n",
    "        result = num1 / num2\n",
    "    else:\n",
    "        print(\"Invalid operator\")\n",
    "    print(\"Result:\", result)"
   ]
  },
  {
   "cell_type": "code",
   "execution_count": 11,
   "id": "5de8f02a",
   "metadata": {},
   "outputs": [
    {
     "name": "stdout",
     "output_type": "stream",
     "text": [
      "Enter first number: 235235\n",
      "Enter second number: 235235235\n",
      "Enter operator (+, -, *, /): /\n",
      "Result: 0.000999999000999999\n"
     ]
    }
   ],
   "source": [
    "Calculator(3,4)"
   ]
  },
  {
   "cell_type": "code",
   "execution_count": null,
   "id": "f8287625",
   "metadata": {},
   "outputs": [],
   "source": []
  }
 ],
 "metadata": {
  "kernelspec": {
   "display_name": "Python 3 (ipykernel)",
   "language": "python",
   "name": "python3"
  },
  "language_info": {
   "codemirror_mode": {
    "name": "ipython",
    "version": 3
   },
   "file_extension": ".py",
   "mimetype": "text/x-python",
   "name": "python",
   "nbconvert_exporter": "python",
   "pygments_lexer": "ipython3",
   "version": "3.10.9"
  }
 },
 "nbformat": 4,
 "nbformat_minor": 5
}
